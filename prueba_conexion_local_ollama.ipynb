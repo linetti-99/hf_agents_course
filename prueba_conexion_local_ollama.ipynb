{
  "nbformat": 4,
  "nbformat_minor": 0,
  "metadata": {
    "colab": {
      "provenance": [],
      "authorship_tag": "ABX9TyNqM0HEo3+p76NXrt7H9ppQ",
      "include_colab_link": true
    },
    "kernelspec": {
      "name": "python3",
      "display_name": "Python 3"
    },
    "language_info": {
      "name": "python"
    }
  },
  "cells": [
    {
      "cell_type": "markdown",
      "metadata": {
        "id": "view-in-github",
        "colab_type": "text"
      },
      "source": [
        "<a href=\"https://colab.research.google.com/github/linetti-99/hf_agents_course/blob/main/prueba_conexion_local_ollama.ipynb\" target=\"_parent\"><img src=\"https://colab.research.google.com/assets/colab-badge.svg\" alt=\"Open In Colab\"/></a>"
      ]
    },
    {
      "cell_type": "code",
      "execution_count": 10,
      "metadata": {
        "colab": {
          "base_uri": "https://localhost:8080/"
        },
        "id": "eWiXbi0ZpWPp",
        "outputId": "e67d6f0c-a392-4551-e462-49ab62256da7"
      },
      "outputs": [
        {
          "output_type": "stream",
          "name": "stdout",
          "text": [
            "Flores de color vivo\n",
            "Aire fresco y soleado\n",
            "Primavera es vida\n"
          ]
        }
      ],
      "source": [
        "import requests\n",
        "\n",
        "ollama_url = \"http://aistack.lan:11434/api/generate\"\n",
        "headers = {\"Content-Type\": \"application/json\"}\n",
        "data = {\n",
        "    \"model\": \"llama3.2:latest\",\n",
        "    \"prompt\": \"Escribe un haiku sobre la primavera.\",\n",
        "    \"stream\": False\n",
        "}\n",
        "\n",
        "response = requests.post(ollama_url, headers=headers, json=data)\n",
        "\n",
        "if response.status_code == 200:\n",
        "    print(response.json()[\"response\"])\n",
        "else:\n",
        "    print(f\"Error: {response.status_code} - {response.text}\")"
      ]
    }
  ]
}