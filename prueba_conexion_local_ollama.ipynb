{
  "nbformat": 4,
  "nbformat_minor": 0,
  "metadata": {
    "colab": {
      "provenance": [],
      "authorship_tag": "ABX9TyNZ/ej0MVcrvNvZKhbOK5hQ",
      "include_colab_link": true
    },
    "kernelspec": {
      "name": "python3",
      "display_name": "Python 3"
    },
    "language_info": {
      "name": "python"
    }
  },
  "cells": [
    {
      "cell_type": "markdown",
      "metadata": {
        "id": "view-in-github",
        "colab_type": "text"
      },
      "source": [
        "<a href=\"https://colab.research.google.com/github/linetti-99/hf_agents_course/blob/main/prueba_conexion_local_ollama.ipynb\" target=\"_parent\"><img src=\"https://colab.research.google.com/assets/colab-badge.svg\" alt=\"Open In Colab\"/></a>"
      ]
    },
    {
      "cell_type": "code",
      "execution_count": null,
      "metadata": {
        "colab": {
          "base_uri": "https://localhost:8080/"
        },
        "id": "eWiXbi0ZpWPp",
        "outputId": "1237c862-033e-4290-cb0a-afdeb2769206"
      },
      "outputs": [
        {
          "output_type": "stream",
          "name": "stdout",
          "text": [
            "Claro, aquí tienes un haiku sobre la primavera:\n",
            "\n",
            "Verde brota suave,\n",
            "El sol calienta la tierra,\n",
            "Vida nueva empieza.\n"
          ]
        }
      ],
      "source": [
        "import requests\n",
        "\n",
        "ollama_url = \"http://aistack.droidnas.net:11434/api/generate\"\n",
        "headers = {\"Content-Type\": \"application/json\"}\n",
        "data = {\n",
        "    \"model\": \"gemma3:4b-it-q8_0\",\n",
        "    \"prompt\": \"Escribe un haiku sobre la primavera.\",\n",
        "    \"stream\": False\n",
        "}\n",
        "\n",
        "response = requests.post(ollama_url, headers=headers, json=data)\n",
        "\n",
        "if response.status_code == 200:\n",
        "    print(response.json()[\"response\"])\n",
        "else:\n",
        "    print(f\"Error: {response.status_code} - {response.text}\")"
      ]
    }
  ]
}